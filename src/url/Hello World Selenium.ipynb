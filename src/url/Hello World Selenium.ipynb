{
 "cells": [
  {
   "cell_type": "code",
   "execution_count": 10,
   "id": "cd7fa53c-19f6-46ab-9f73-3492d60e818c",
   "metadata": {},
   "outputs": [],
   "source": [
    "from selenium import webdriver\n",
    "from selenium.webdriver.chrome.options import Options\n",
    "from selenium.webdriver.common.desired_capabilities import DesiredCapabilities\n",
    "import time"
   ]
  },
  {
   "cell_type": "code",
   "execution_count": 15,
   "id": "3fd25b5e-7669-42a4-b60d-b8928772e3e5",
   "metadata": {},
   "outputs": [],
   "source": [
    "chrome_options = Options()\n",
    "# chrome_options.add_argument('--headless')\n",
    "chrome_options.add_argument('--window-size=1920,1080')"
   ]
  },
  {
   "cell_type": "code",
   "execution_count": 14,
   "id": "601a46ad-ff94-441c-bfbc-add0ab6226c5",
   "metadata": {},
   "outputs": [],
   "source": [
    "with webdriver.Chrome(options=chrome_options, desired_capabilities=chrome_capabilities) as driver:\n",
    "    driver.get(\"https://www.instagram.com\")\n",
    "    time.sleep(10)"
   ]
  },
  {
   "cell_type": "code",
   "execution_count": null,
   "id": "a2336b52-3b4f-46ae-84d9-e9c2bcb3e161",
   "metadata": {},
   "outputs": [],
   "source": []
  }
 ],
 "metadata": {
  "kernelspec": {
   "display_name": "Python 3 (ipykernel)",
   "language": "python",
   "name": "python3"
  },
  "language_info": {
   "codemirror_mode": {
    "name": "ipython",
    "version": 3
   },
   "file_extension": ".py",
   "mimetype": "text/x-python",
   "name": "python",
   "nbconvert_exporter": "python",
   "pygments_lexer": "ipython3",
   "version": "3.10.12"
  }
 },
 "nbformat": 4,
 "nbformat_minor": 5
}
